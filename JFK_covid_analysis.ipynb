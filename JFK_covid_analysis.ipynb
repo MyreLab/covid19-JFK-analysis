{
 "cells": [
  {
   "cell_type": "markdown",
   "id": "7e259753",
   "metadata": {},
   "source": [
    "# Timeseries analysis of John F. Kennedy Airport Departures Overlayed with COVID-19 Case Counts"
   ]
  },
  {
   "cell_type": "markdown",
   "id": "571d4f57",
   "metadata": {},
   "source": [
    "## Analytical Roadmap:"
   ]
  },
  {
   "cell_type": "markdown",
   "id": "72b11151",
   "metadata": {},
   "source": [
    "The overall objective of this analysis is to determine whether there is any relationship between the cumulative COVID-19 case count observed in 2020 and 2021 and the departure volume at JFK airport in NYC. \n",
    "\n",
    "- Import required data\n",
    "- Convert fields to required types (e.g., datetime for dates)\n",
    "- Establish baseline annual departure profile in non-COVID years (2017, 2018, 2019)\n",
    "- Overlay COVID-19 cumulative case count on departure volume\n",
    "- Visually assess any relationships between new case counts and departure volume\n",
    "- Quantitify relationship if possible (e.g., reduction in 30-day moving average departures as case counts increase)"
   ]
  },
  {
   "cell_type": "markdown",
   "id": "513c4f2b",
   "metadata": {},
   "source": [
    "## Data sources:"
   ]
  },
  {
   "cell_type": "markdown",
   "id": "b6d189f1",
   "metadata": {},
   "source": [
    "- JFK departure data filtered for American Airlines between 2017 and 2021: https://www.transtats.bts.gov/ONTIME/Departures.aspx\n",
    "- COVID-19 case counts in New York City (source: NYC DOHMH): https://github.com/nychealth/coronavirus-data/blob/master/trends/data-by-day.csv"
   ]
  },
  {
   "cell_type": "code",
   "execution_count": 1,
   "id": "74079b44",
   "metadata": {},
   "outputs": [],
   "source": [
    "import pandas as pd\n",
    "import seaborn as sns\n",
    "import numpy as np\n",
    "import matplotlib.pyplot as plt\n",
    "import datetime as dt"
   ]
  },
  {
   "cell_type": "code",
   "execution_count": 2,
   "id": "fe0fd8c1",
   "metadata": {},
   "outputs": [
    {
     "name": "stdout",
     "output_type": "stream",
     "text": [
      "Detailed_Statistics_Departures.csv  \u001b[34mcovid19-JFK-analysis\u001b[m\u001b[m/\r\n",
      "JFK_covid_analysis.ipynb            data-by-day.csv\r\n",
      "JFK_covid_analysis.py\r\n"
     ]
    }
   ],
   "source": [
    "%ls"
   ]
  },
  {
   "cell_type": "markdown",
   "id": "e8fc5ced",
   "metadata": {},
   "source": [
    "### Importing required data"
   ]
  },
  {
   "cell_type": "code",
   "execution_count": 3,
   "id": "179eb772",
   "metadata": {},
   "outputs": [],
   "source": [
    "#importing departure data for American Airlines\n",
    "df_jfkdeps = pd.read_csv('Detailed_Statistics_Departures.csv',header=6)"
   ]
  },
  {
   "cell_type": "code",
   "execution_count": 4,
   "id": "6cab3449",
   "metadata": {},
   "outputs": [
    {
     "name": "stdout",
     "output_type": "stream",
     "text": [
      "<class 'pandas.core.frame.DataFrame'>\n",
      "RangeIndex: 67548 entries, 0 to 67547\n",
      "Data columns (total 6 columns):\n",
      " #   Column                 Non-Null Count  Dtype  \n",
      "---  ------                 --------------  -----  \n",
      " 0   Carrier Code           67548 non-null  object \n",
      " 1   Date (MM/DD/YYYY)      67547 non-null  object \n",
      " 2   Flight Number          67547 non-null  float64\n",
      " 3   Tail Number            67298 non-null  object \n",
      " 4   Destination Airport    67547 non-null  object \n",
      " 5   Actual departure time  67547 non-null  object \n",
      "dtypes: float64(1), object(5)\n",
      "memory usage: 3.1+ MB\n"
     ]
    }
   ],
   "source": [
    "df_jfkdeps.info()"
   ]
  },
  {
   "cell_type": "code",
   "execution_count": 5,
   "id": "ba101894",
   "metadata": {
    "scrolled": false
   },
   "outputs": [
    {
     "data": {
      "text/html": [
       "<div>\n",
       "<style scoped>\n",
       "    .dataframe tbody tr th:only-of-type {\n",
       "        vertical-align: middle;\n",
       "    }\n",
       "\n",
       "    .dataframe tbody tr th {\n",
       "        vertical-align: top;\n",
       "    }\n",
       "\n",
       "    .dataframe thead th {\n",
       "        text-align: right;\n",
       "    }\n",
       "</style>\n",
       "<table border=\"1\" class=\"dataframe\">\n",
       "  <thead>\n",
       "    <tr style=\"text-align: right;\">\n",
       "      <th></th>\n",
       "      <th>Carrier Code</th>\n",
       "      <th>Date (MM/DD/YYYY)</th>\n",
       "      <th>Flight Number</th>\n",
       "      <th>Tail Number</th>\n",
       "      <th>Destination Airport</th>\n",
       "      <th>Actual departure time</th>\n",
       "    </tr>\n",
       "  </thead>\n",
       "  <tbody>\n",
       "    <tr>\n",
       "      <th>0</th>\n",
       "      <td>AA</td>\n",
       "      <td>01/01/2017</td>\n",
       "      <td>1.0</td>\n",
       "      <td>N787AA</td>\n",
       "      <td>LAX</td>\n",
       "      <td>08:31</td>\n",
       "    </tr>\n",
       "    <tr>\n",
       "      <th>1</th>\n",
       "      <td>AA</td>\n",
       "      <td>01/01/2017</td>\n",
       "      <td>9.0</td>\n",
       "      <td>N794AA</td>\n",
       "      <td>SFO</td>\n",
       "      <td>06:56</td>\n",
       "    </tr>\n",
       "    <tr>\n",
       "      <th>2</th>\n",
       "      <td>AA</td>\n",
       "      <td>01/01/2017</td>\n",
       "      <td>15.0</td>\n",
       "      <td>N785AA</td>\n",
       "      <td>SFO</td>\n",
       "      <td>08:24</td>\n",
       "    </tr>\n",
       "    <tr>\n",
       "      <th>3</th>\n",
       "      <td>AA</td>\n",
       "      <td>01/01/2017</td>\n",
       "      <td>19.0</td>\n",
       "      <td>N790AA</td>\n",
       "      <td>LAX</td>\n",
       "      <td>08:56</td>\n",
       "    </tr>\n",
       "    <tr>\n",
       "      <th>4</th>\n",
       "      <td>AA</td>\n",
       "      <td>01/01/2017</td>\n",
       "      <td>21.0</td>\n",
       "      <td>N783AA</td>\n",
       "      <td>LAX</td>\n",
       "      <td>19:22</td>\n",
       "    </tr>\n",
       "  </tbody>\n",
       "</table>\n",
       "</div>"
      ],
      "text/plain": [
       "  Carrier Code Date (MM/DD/YYYY)  Flight Number Tail Number  \\\n",
       "0           AA        01/01/2017            1.0      N787AA   \n",
       "1           AA        01/01/2017            9.0      N794AA   \n",
       "2           AA        01/01/2017           15.0      N785AA   \n",
       "3           AA        01/01/2017           19.0      N790AA   \n",
       "4           AA        01/01/2017           21.0      N783AA   \n",
       "\n",
       "  Destination Airport Actual departure time  \n",
       "0                 LAX                 08:31  \n",
       "1                 SFO                 06:56  \n",
       "2                 SFO                 08:24  \n",
       "3                 LAX                 08:56  \n",
       "4                 LAX                 19:22  "
      ]
     },
     "execution_count": 5,
     "metadata": {},
     "output_type": "execute_result"
    }
   ],
   "source": [
    "df_jfkdeps.head()"
   ]
  },
  {
   "cell_type": "code",
   "execution_count": 6,
   "id": "360c7bb1",
   "metadata": {},
   "outputs": [
    {
     "data": {
      "text/html": [
       "<div>\n",
       "<style scoped>\n",
       "    .dataframe tbody tr th:only-of-type {\n",
       "        vertical-align: middle;\n",
       "    }\n",
       "\n",
       "    .dataframe tbody tr th {\n",
       "        vertical-align: top;\n",
       "    }\n",
       "\n",
       "    .dataframe thead th {\n",
       "        text-align: right;\n",
       "    }\n",
       "</style>\n",
       "<table border=\"1\" class=\"dataframe\">\n",
       "  <thead>\n",
       "    <tr style=\"text-align: right;\">\n",
       "      <th></th>\n",
       "      <th>Carrier Code</th>\n",
       "      <th>Date (MM/DD/YYYY)</th>\n",
       "      <th>Flight Number</th>\n",
       "      <th>Tail Number</th>\n",
       "      <th>Destination Airport</th>\n",
       "      <th>Actual departure time</th>\n",
       "    </tr>\n",
       "  </thead>\n",
       "  <tbody>\n",
       "    <tr>\n",
       "      <th>67543</th>\n",
       "      <td>AA</td>\n",
       "      <td>12/31/2021</td>\n",
       "      <td>2772.0</td>\n",
       "      <td>N316PF</td>\n",
       "      <td>AUS</td>\n",
       "      <td>18:28</td>\n",
       "    </tr>\n",
       "    <tr>\n",
       "      <th>67544</th>\n",
       "      <td>AA</td>\n",
       "      <td>12/31/2021</td>\n",
       "      <td>2813.0</td>\n",
       "      <td>N946AN</td>\n",
       "      <td>AUS</td>\n",
       "      <td>07:57</td>\n",
       "    </tr>\n",
       "    <tr>\n",
       "      <th>67545</th>\n",
       "      <td>AA</td>\n",
       "      <td>12/31/2021</td>\n",
       "      <td>2819.0</td>\n",
       "      <td>N336RU</td>\n",
       "      <td>ORD</td>\n",
       "      <td>07:45</td>\n",
       "    </tr>\n",
       "    <tr>\n",
       "      <th>67546</th>\n",
       "      <td>AA</td>\n",
       "      <td>12/31/2021</td>\n",
       "      <td>2829.0</td>\n",
       "      <td>N303RG</td>\n",
       "      <td>PHX</td>\n",
       "      <td>13:26</td>\n",
       "    </tr>\n",
       "    <tr>\n",
       "      <th>67547</th>\n",
       "      <td>SOURCE: Bureau of Transportation Statistics</td>\n",
       "      <td>NaN</td>\n",
       "      <td>NaN</td>\n",
       "      <td>NaN</td>\n",
       "      <td>NaN</td>\n",
       "      <td>NaN</td>\n",
       "    </tr>\n",
       "  </tbody>\n",
       "</table>\n",
       "</div>"
      ],
      "text/plain": [
       "                                       Carrier Code Date (MM/DD/YYYY)  \\\n",
       "67543                                            AA        12/31/2021   \n",
       "67544                                            AA        12/31/2021   \n",
       "67545                                            AA        12/31/2021   \n",
       "67546                                            AA        12/31/2021   \n",
       "67547   SOURCE: Bureau of Transportation Statistics               NaN   \n",
       "\n",
       "       Flight Number Tail Number Destination Airport Actual departure time  \n",
       "67543         2772.0      N316PF                 AUS                 18:28  \n",
       "67544         2813.0      N946AN                 AUS                 07:57  \n",
       "67545         2819.0      N336RU                 ORD                 07:45  \n",
       "67546         2829.0      N303RG                 PHX                 13:26  \n",
       "67547            NaN         NaN                 NaN                   NaN  "
      ]
     },
     "execution_count": 6,
     "metadata": {},
     "output_type": "execute_result"
    }
   ],
   "source": [
    "df_jfkdeps.tail()"
   ]
  },
  {
   "cell_type": "code",
   "execution_count": 7,
   "id": "dfb319a0",
   "metadata": {},
   "outputs": [],
   "source": [
    "df_jfkdeps.drop(df_jfkdeps.tail(1).index,inplace=True)"
   ]
  },
  {
   "cell_type": "code",
   "execution_count": 8,
   "id": "4e0d8d7d",
   "metadata": {},
   "outputs": [],
   "source": [
    "# importing NYC case counts since March 2020\n",
    "df_case_count = pd.read_csv('data-by-day.csv')"
   ]
  },
  {
   "cell_type": "code",
   "execution_count": 9,
   "id": "53b7aff7",
   "metadata": {},
   "outputs": [
    {
     "data": {
      "text/html": [
       "<div>\n",
       "<style scoped>\n",
       "    .dataframe tbody tr th:only-of-type {\n",
       "        vertical-align: middle;\n",
       "    }\n",
       "\n",
       "    .dataframe tbody tr th {\n",
       "        vertical-align: top;\n",
       "    }\n",
       "\n",
       "    .dataframe thead th {\n",
       "        text-align: right;\n",
       "    }\n",
       "</style>\n",
       "<table border=\"1\" class=\"dataframe\">\n",
       "  <thead>\n",
       "    <tr style=\"text-align: right;\">\n",
       "      <th></th>\n",
       "      <th>date_of_interest</th>\n",
       "      <th>CASE_COUNT</th>\n",
       "      <th>PROBABLE_CASE_COUNT</th>\n",
       "      <th>HOSPITALIZED_COUNT</th>\n",
       "      <th>DEATH_COUNT</th>\n",
       "      <th>PROBABLE_DEATH_COUNT</th>\n",
       "      <th>CASE_COUNT_7DAY_AVG</th>\n",
       "      <th>ALL_CASE_COUNT_7DAY_AVG</th>\n",
       "      <th>HOSP_COUNT_7DAY_AVG</th>\n",
       "      <th>DEATH_COUNT_7DAY_AVG</th>\n",
       "      <th>...</th>\n",
       "      <th>SI_HOSPITALIZED_COUNT</th>\n",
       "      <th>SI_DEATH_COUNT</th>\n",
       "      <th>SI_PROBABLE_DEATH_COUNT</th>\n",
       "      <th>SI_CASE_COUNT_7DAY_AVG</th>\n",
       "      <th>SI_PROBABLE_CASE_COUNT_7DAY_AVG</th>\n",
       "      <th>SI_ALL_CASE_COUNT_7DAY_AVG</th>\n",
       "      <th>SI_HOSPITALIZED_COUNT_7DAY_AVG</th>\n",
       "      <th>SI_DEATH_COUNT_7DAY_AVG</th>\n",
       "      <th>SI_ALL_DEATH_COUNT_7DAY_AVG</th>\n",
       "      <th>INCOMPLETE</th>\n",
       "    </tr>\n",
       "  </thead>\n",
       "  <tbody>\n",
       "    <tr>\n",
       "      <th>0</th>\n",
       "      <td>02/29/2020</td>\n",
       "      <td>1</td>\n",
       "      <td>0</td>\n",
       "      <td>1</td>\n",
       "      <td>0</td>\n",
       "      <td>0</td>\n",
       "      <td>0</td>\n",
       "      <td>0</td>\n",
       "      <td>0</td>\n",
       "      <td>0</td>\n",
       "      <td>...</td>\n",
       "      <td>0</td>\n",
       "      <td>0</td>\n",
       "      <td>0</td>\n",
       "      <td>0</td>\n",
       "      <td>0</td>\n",
       "      <td>0</td>\n",
       "      <td>0</td>\n",
       "      <td>0</td>\n",
       "      <td>0</td>\n",
       "      <td>0</td>\n",
       "    </tr>\n",
       "    <tr>\n",
       "      <th>1</th>\n",
       "      <td>03/01/2020</td>\n",
       "      <td>0</td>\n",
       "      <td>0</td>\n",
       "      <td>1</td>\n",
       "      <td>0</td>\n",
       "      <td>0</td>\n",
       "      <td>0</td>\n",
       "      <td>0</td>\n",
       "      <td>0</td>\n",
       "      <td>0</td>\n",
       "      <td>...</td>\n",
       "      <td>0</td>\n",
       "      <td>0</td>\n",
       "      <td>0</td>\n",
       "      <td>0</td>\n",
       "      <td>0</td>\n",
       "      <td>0</td>\n",
       "      <td>0</td>\n",
       "      <td>0</td>\n",
       "      <td>0</td>\n",
       "      <td>0</td>\n",
       "    </tr>\n",
       "    <tr>\n",
       "      <th>2</th>\n",
       "      <td>03/02/2020</td>\n",
       "      <td>0</td>\n",
       "      <td>0</td>\n",
       "      <td>2</td>\n",
       "      <td>0</td>\n",
       "      <td>0</td>\n",
       "      <td>0</td>\n",
       "      <td>0</td>\n",
       "      <td>0</td>\n",
       "      <td>0</td>\n",
       "      <td>...</td>\n",
       "      <td>0</td>\n",
       "      <td>0</td>\n",
       "      <td>0</td>\n",
       "      <td>0</td>\n",
       "      <td>0</td>\n",
       "      <td>0</td>\n",
       "      <td>0</td>\n",
       "      <td>0</td>\n",
       "      <td>0</td>\n",
       "      <td>0</td>\n",
       "    </tr>\n",
       "    <tr>\n",
       "      <th>3</th>\n",
       "      <td>03/03/2020</td>\n",
       "      <td>1</td>\n",
       "      <td>0</td>\n",
       "      <td>7</td>\n",
       "      <td>0</td>\n",
       "      <td>0</td>\n",
       "      <td>0</td>\n",
       "      <td>0</td>\n",
       "      <td>0</td>\n",
       "      <td>0</td>\n",
       "      <td>...</td>\n",
       "      <td>0</td>\n",
       "      <td>0</td>\n",
       "      <td>0</td>\n",
       "      <td>0</td>\n",
       "      <td>0</td>\n",
       "      <td>0</td>\n",
       "      <td>0</td>\n",
       "      <td>0</td>\n",
       "      <td>0</td>\n",
       "      <td>0</td>\n",
       "    </tr>\n",
       "    <tr>\n",
       "      <th>4</th>\n",
       "      <td>03/04/2020</td>\n",
       "      <td>5</td>\n",
       "      <td>0</td>\n",
       "      <td>2</td>\n",
       "      <td>0</td>\n",
       "      <td>0</td>\n",
       "      <td>0</td>\n",
       "      <td>0</td>\n",
       "      <td>0</td>\n",
       "      <td>0</td>\n",
       "      <td>...</td>\n",
       "      <td>0</td>\n",
       "      <td>0</td>\n",
       "      <td>0</td>\n",
       "      <td>0</td>\n",
       "      <td>0</td>\n",
       "      <td>0</td>\n",
       "      <td>0</td>\n",
       "      <td>0</td>\n",
       "      <td>0</td>\n",
       "      <td>0</td>\n",
       "    </tr>\n",
       "  </tbody>\n",
       "</table>\n",
       "<p>5 rows × 67 columns</p>\n",
       "</div>"
      ],
      "text/plain": [
       "  date_of_interest  CASE_COUNT  PROBABLE_CASE_COUNT  HOSPITALIZED_COUNT  \\\n",
       "0       02/29/2020           1                    0                   1   \n",
       "1       03/01/2020           0                    0                   1   \n",
       "2       03/02/2020           0                    0                   2   \n",
       "3       03/03/2020           1                    0                   7   \n",
       "4       03/04/2020           5                    0                   2   \n",
       "\n",
       "   DEATH_COUNT  PROBABLE_DEATH_COUNT  CASE_COUNT_7DAY_AVG  \\\n",
       "0            0                     0                    0   \n",
       "1            0                     0                    0   \n",
       "2            0                     0                    0   \n",
       "3            0                     0                    0   \n",
       "4            0                     0                    0   \n",
       "\n",
       "   ALL_CASE_COUNT_7DAY_AVG  HOSP_COUNT_7DAY_AVG  DEATH_COUNT_7DAY_AVG  ...  \\\n",
       "0                        0                    0                     0  ...   \n",
       "1                        0                    0                     0  ...   \n",
       "2                        0                    0                     0  ...   \n",
       "3                        0                    0                     0  ...   \n",
       "4                        0                    0                     0  ...   \n",
       "\n",
       "   SI_HOSPITALIZED_COUNT  SI_DEATH_COUNT  SI_PROBABLE_DEATH_COUNT  \\\n",
       "0                      0               0                        0   \n",
       "1                      0               0                        0   \n",
       "2                      0               0                        0   \n",
       "3                      0               0                        0   \n",
       "4                      0               0                        0   \n",
       "\n",
       "   SI_CASE_COUNT_7DAY_AVG  SI_PROBABLE_CASE_COUNT_7DAY_AVG  \\\n",
       "0                       0                                0   \n",
       "1                       0                                0   \n",
       "2                       0                                0   \n",
       "3                       0                                0   \n",
       "4                       0                                0   \n",
       "\n",
       "   SI_ALL_CASE_COUNT_7DAY_AVG  SI_HOSPITALIZED_COUNT_7DAY_AVG  \\\n",
       "0                           0                               0   \n",
       "1                           0                               0   \n",
       "2                           0                               0   \n",
       "3                           0                               0   \n",
       "4                           0                               0   \n",
       "\n",
       "   SI_DEATH_COUNT_7DAY_AVG  SI_ALL_DEATH_COUNT_7DAY_AVG  INCOMPLETE  \n",
       "0                        0                            0           0  \n",
       "1                        0                            0           0  \n",
       "2                        0                            0           0  \n",
       "3                        0                            0           0  \n",
       "4                        0                            0           0  \n",
       "\n",
       "[5 rows x 67 columns]"
      ]
     },
     "execution_count": 9,
     "metadata": {},
     "output_type": "execute_result"
    }
   ],
   "source": [
    "df_case_count.head()"
   ]
  },
  {
   "cell_type": "code",
   "execution_count": 10,
   "id": "6ed1fc4a",
   "metadata": {
    "scrolled": false
   },
   "outputs": [
    {
     "name": "stdout",
     "output_type": "stream",
     "text": [
      "<class 'pandas.core.frame.DataFrame'>\n",
      "RangeIndex: 770 entries, 0 to 769\n",
      "Data columns (total 67 columns):\n",
      " #   Column                           Non-Null Count  Dtype \n",
      "---  ------                           --------------  ----- \n",
      " 0   date_of_interest                 770 non-null    object\n",
      " 1   CASE_COUNT                       770 non-null    int64 \n",
      " 2   PROBABLE_CASE_COUNT              770 non-null    int64 \n",
      " 3   HOSPITALIZED_COUNT               770 non-null    int64 \n",
      " 4   DEATH_COUNT                      770 non-null    int64 \n",
      " 5   PROBABLE_DEATH_COUNT             770 non-null    int64 \n",
      " 6   CASE_COUNT_7DAY_AVG              770 non-null    int64 \n",
      " 7   ALL_CASE_COUNT_7DAY_AVG          770 non-null    int64 \n",
      " 8   HOSP_COUNT_7DAY_AVG              770 non-null    int64 \n",
      " 9   DEATH_COUNT_7DAY_AVG             770 non-null    int64 \n",
      " 10  ALL_DEATH_COUNT_7DAY_AVG         770 non-null    int64 \n",
      " 11  BX_CASE_COUNT                    770 non-null    int64 \n",
      " 12  BX_PROBABLE_CASE_COUNT           770 non-null    int64 \n",
      " 13  BX_HOSPITALIZED_COUNT            770 non-null    int64 \n",
      " 14  BX_DEATH_COUNT                   770 non-null    int64 \n",
      " 15  BX_PROBABLE_DEATH_COUNT          770 non-null    int64 \n",
      " 16  BX_CASE_COUNT_7DAY_AVG           770 non-null    int64 \n",
      " 17  BX_PROBABLE_CASE_COUNT_7DAY_AVG  770 non-null    int64 \n",
      " 18  BX_ALL_CASE_COUNT_7DAY_AVG       770 non-null    int64 \n",
      " 19  BX_HOSPITALIZED_COUNT_7DAY_AVG   770 non-null    int64 \n",
      " 20  BX_DEATH_COUNT_7DAY_AVG          770 non-null    int64 \n",
      " 21  BX_ALL_DEATH_COUNT_7DAY_AVG      770 non-null    int64 \n",
      " 22  BK_CASE_COUNT                    770 non-null    int64 \n",
      " 23  BK_PROBABLE_CASE_COUNT           770 non-null    int64 \n",
      " 24  BK_HOSPITALIZED_COUNT            770 non-null    int64 \n",
      " 25  BK_DEATH_COUNT                   770 non-null    int64 \n",
      " 26  BK_PROBABLE_DEATH_COUNT          770 non-null    int64 \n",
      " 27  BK_CASE_COUNT_7DAY_AVG           770 non-null    int64 \n",
      " 28  BK_PROBABLE_CASE_COUNT_7DAY_AVG  770 non-null    int64 \n",
      " 29  BK_ALL_CASE_COUNT_7DAY_AVG       770 non-null    int64 \n",
      " 30  BK_HOSPITALIZED_COUNT_7DAY_AVG   770 non-null    int64 \n",
      " 31  BK_DEATH_COUNT_7DAY_AVG          770 non-null    int64 \n",
      " 32  BK_ALL_DEATH_COUNT_7DAY_AVG      770 non-null    int64 \n",
      " 33  MN_CASE_COUNT                    770 non-null    int64 \n",
      " 34  MN_PROBABLE_CASE_COUNT           770 non-null    int64 \n",
      " 35  MN_HOSPITALIZED_COUNT            770 non-null    int64 \n",
      " 36  MN_DEATH_COUNT                   770 non-null    int64 \n",
      " 37  MN_PROBABLE_DEATH_COUNT          770 non-null    int64 \n",
      " 38  MN_CASE_COUNT_7DAY_AVG           770 non-null    int64 \n",
      " 39  MN_PROBABLE_CASE_COUNT_7DAY_AVG  770 non-null    int64 \n",
      " 40  MN_ALL_CASE_COUNT_7DAY_AVG       770 non-null    int64 \n",
      " 41  MN_HOSPITALIZED_COUNT_7DAY_AVG   770 non-null    int64 \n",
      " 42  MN_DEATH_COUNT_7DAY_AVG          770 non-null    int64 \n",
      " 43  MN_ALL_DEATH_COUNT_7DAY_AVG      770 non-null    int64 \n",
      " 44  QN_CASE_COUNT                    770 non-null    int64 \n",
      " 45  QN_PROBABLE_CASE_COUNT           770 non-null    int64 \n",
      " 46  QN_HOSPITALIZED_COUNT            770 non-null    int64 \n",
      " 47  QN_DEATH_COUNT                   770 non-null    int64 \n",
      " 48  QN_PROBABLE_DEATH_COUNT          770 non-null    int64 \n",
      " 49  QN_CASE_COUNT_7DAY_AVG           770 non-null    int64 \n",
      " 50  QN_PROBABLE_CASE_COUNT_7DAY_AVG  770 non-null    int64 \n",
      " 51  QN_ALL_CASE_COUNT_7DAY_AVG       770 non-null    int64 \n",
      " 52  QN_HOSPITALIZED_COUNT_7DAY_AVG   770 non-null    int64 \n",
      " 53  QN_DEATH_COUNT_7DAY_AVG          770 non-null    int64 \n",
      " 54  QN_ALL_DEATH_COUNT_7DAY_AVG      770 non-null    int64 \n",
      " 55  SI_CASE_COUNT                    770 non-null    int64 \n",
      " 56  SI_PROBABLE_CASE_COUNT           770 non-null    int64 \n",
      " 57  SI_HOSPITALIZED_COUNT            770 non-null    int64 \n",
      " 58  SI_DEATH_COUNT                   770 non-null    int64 \n",
      " 59  SI_PROBABLE_DEATH_COUNT          770 non-null    int64 \n",
      " 60  SI_CASE_COUNT_7DAY_AVG           770 non-null    int64 \n",
      " 61  SI_PROBABLE_CASE_COUNT_7DAY_AVG  770 non-null    int64 \n",
      " 62  SI_ALL_CASE_COUNT_7DAY_AVG       770 non-null    int64 \n",
      " 63  SI_HOSPITALIZED_COUNT_7DAY_AVG   770 non-null    int64 \n",
      " 64  SI_DEATH_COUNT_7DAY_AVG          770 non-null    int64 \n",
      " 65  SI_ALL_DEATH_COUNT_7DAY_AVG      770 non-null    int64 \n",
      " 66  INCOMPLETE                       770 non-null    int64 \n",
      "dtypes: int64(66), object(1)\n",
      "memory usage: 403.2+ KB\n"
     ]
    }
   ],
   "source": [
    "df_case_count.info()"
   ]
  },
  {
   "cell_type": "markdown",
   "id": "2886f581",
   "metadata": {},
   "source": [
    "### Convert fields to required types (e.g., datetime for dates)"
   ]
  },
  {
   "cell_type": "code",
   "execution_count": 11,
   "id": "4f976bd5",
   "metadata": {},
   "outputs": [],
   "source": [
    "#renaming date columns in both datasets to DATE\n",
    "df_jfkdeps = df_jfkdeps.rename(columns={'Date (MM/DD/YYYY)':'DATE'})\n",
    "df_case_count = df_case_count.rename(columns={'date_of_interest':'DATE'})\n",
    "\n",
    "#convert DATE fields in both dataframes to datetime\n",
    "df_jfkdeps.DATE = pd.to_datetime(df_jfkdeps.DATE)\n",
    "df_case_count.DATE = pd.to_datetime(df_case_count.DATE)"
   ]
  },
  {
   "cell_type": "markdown",
   "id": "7983ee58",
   "metadata": {},
   "source": [
    "### Establish baseline annual departure profile in non-COVID years (2017, 2018, 2019)"
   ]
  },
  {
   "cell_type": "code",
   "execution_count": 12,
   "id": "7dcf9a19",
   "metadata": {},
   "outputs": [
    {
     "data": {
      "text/plain": [
       "<AxesSubplot:xlabel='DATE'>"
      ]
     },
     "execution_count": 12,
     "metadata": {},
     "output_type": "execute_result"
    },
    {
     "data": {
      "image/png": "[encoded data removed]",
      "text/plain": [
       "<Figure size 432x288 with 1 Axes>"
      ]
     },
     "metadata": {
      "needs_background": "light"
     },
     "output_type": "display_data"
    }
   ],
   "source": [
    "(df_jfkdeps.\n",
    "    set_index('DATE').\n",
    "    resample('D').\n",
    "    size().\n",
    "    plot())"
   ]
  },
  {
   "cell_type": "code",
   "execution_count": 13,
   "id": "48b5fd63",
   "metadata": {
    "scrolled": false
   },
   "outputs": [
    {
     "data": {
      "image/png": "[encoded data removed]",
      "text/plain": [
       "<Figure size 432x288 with 1 Axes>"
      ]
     },
     "metadata": {
      "needs_background": "light"
     },
     "output_type": "display_data"
    }
   ],
   "source": [
    "#since above plot is quite granular, replot with a moving 7-day average of daily departures\n",
    "\n",
    "\n",
    "plt.plot(df_jfkdeps.\n",
    "    set_index('DATE').\n",
    "    resample('D').\n",
    "    size().\n",
    "    rolling(7).\n",
    "    mean())\n",
    "\n",
    "# define a shaded region to highlight timing of COVID-19\n",
    "x1 = df_case_count.DATE[0]\n",
    "x2 = df_jfkdeps.DATE[67546]\n",
    "plt.axvspan(x1, x2, color='grey',alpha=0.2)\n",
    "\n",
    "#label axes and show plot\n",
    "plt.xlabel('Date')\n",
    "plt.ylabel('7-day moving average of daily departures')\n",
    "plt.show()\n"
   ]
  },
  {
   "cell_type": "markdown",
   "id": "981ba4d2",
   "metadata": {},
   "source": [
    "From above we can conclude that COVID-19 had an appreciable impact on daily flight volume for American Airlines, a major carrier with domestic and international operations. "
   ]
  },
  {
   "cell_type": "markdown",
   "id": "481e57a0",
   "metadata": {},
   "source": [
    "## Overlay COVID-19 cumulative case count on departure volume"
   ]
  },
  {
   "cell_type": "code",
   "execution_count": 14,
   "id": "0796638c",
   "metadata": {},
   "outputs": [
    {
     "data": {
      "text/html": [
       "<div>\n",
       "<style scoped>\n",
       "    .dataframe tbody tr th:only-of-type {\n",
       "        vertical-align: middle;\n",
       "    }\n",
       "\n",
       "    .dataframe tbody tr th {\n",
       "        vertical-align: top;\n",
       "    }\n",
       "\n",
       "    .dataframe thead th {\n",
       "        text-align: right;\n",
       "    }\n",
       "</style>\n",
       "<table border=\"1\" class=\"dataframe\">\n",
       "  <thead>\n",
       "    <tr style=\"text-align: right;\">\n",
       "      <th></th>\n",
       "      <th>DATE</th>\n",
       "      <th>0</th>\n",
       "      <th>CASE_COUNT</th>\n",
       "    </tr>\n",
       "  </thead>\n",
       "  <tbody>\n",
       "    <tr>\n",
       "      <th>0</th>\n",
       "      <td>2017-01-01</td>\n",
       "      <td>NaN</td>\n",
       "      <td>NaN</td>\n",
       "    </tr>\n",
       "    <tr>\n",
       "      <th>1</th>\n",
       "      <td>2017-01-02</td>\n",
       "      <td>NaN</td>\n",
       "      <td>NaN</td>\n",
       "    </tr>\n",
       "    <tr>\n",
       "      <th>2</th>\n",
       "      <td>2017-01-03</td>\n",
       "      <td>NaN</td>\n",
       "      <td>NaN</td>\n",
       "    </tr>\n",
       "    <tr>\n",
       "      <th>3</th>\n",
       "      <td>2017-01-04</td>\n",
       "      <td>NaN</td>\n",
       "      <td>NaN</td>\n",
       "    </tr>\n",
       "    <tr>\n",
       "      <th>4</th>\n",
       "      <td>2017-01-05</td>\n",
       "      <td>NaN</td>\n",
       "      <td>NaN</td>\n",
       "    </tr>\n",
       "    <tr>\n",
       "      <th>...</th>\n",
       "      <td>...</td>\n",
       "      <td>...</td>\n",
       "      <td>...</td>\n",
       "    </tr>\n",
       "    <tr>\n",
       "      <th>1821</th>\n",
       "      <td>2021-12-27</td>\n",
       "      <td>41.428571</td>\n",
       "      <td>51149.0</td>\n",
       "    </tr>\n",
       "    <tr>\n",
       "      <th>1822</th>\n",
       "      <td>2021-12-28</td>\n",
       "      <td>39.714286</td>\n",
       "      <td>49389.0</td>\n",
       "    </tr>\n",
       "    <tr>\n",
       "      <th>1823</th>\n",
       "      <td>2021-12-29</td>\n",
       "      <td>38.000000</td>\n",
       "      <td>50356.0</td>\n",
       "    </tr>\n",
       "    <tr>\n",
       "      <th>1824</th>\n",
       "      <td>2021-12-30</td>\n",
       "      <td>36.285714</td>\n",
       "      <td>47083.0</td>\n",
       "    </tr>\n",
       "    <tr>\n",
       "      <th>1825</th>\n",
       "      <td>2021-12-31</td>\n",
       "      <td>36.142857</td>\n",
       "      <td>29016.0</td>\n",
       "    </tr>\n",
       "  </tbody>\n",
       "</table>\n",
       "<p>1826 rows × 3 columns</p>\n",
       "</div>"
      ],
      "text/plain": [
       "           DATE          0  CASE_COUNT\n",
       "0    2017-01-01        NaN         NaN\n",
       "1    2017-01-02        NaN         NaN\n",
       "2    2017-01-03        NaN         NaN\n",
       "3    2017-01-04        NaN         NaN\n",
       "4    2017-01-05        NaN         NaN\n",
       "...         ...        ...         ...\n",
       "1821 2021-12-27  41.428571     51149.0\n",
       "1822 2021-12-28  39.714286     49389.0\n",
       "1823 2021-12-29  38.000000     50356.0\n",
       "1824 2021-12-30  36.285714     47083.0\n",
       "1825 2021-12-31  36.142857     29016.0\n",
       "\n",
       "[1826 rows x 3 columns]"
      ]
     },
     "execution_count": 14,
     "metadata": {},
     "output_type": "execute_result"
    }
   ],
   "source": [
    "# first merge the two datasets to have the cumulative total daily \n",
    "# case count aligned to the date fields in the departure data\n",
    "\n",
    "df_combined = pd.merge(df_jfkdeps.\n",
    "    set_index('DATE').\n",
    "    resample('D').\n",
    "    size().\n",
    "    rolling(7).\n",
    "    mean().reset_index(),\n",
    "    df_case_count[['DATE','CASE_COUNT']],\n",
    "    left_on='DATE',\n",
    "    right_on='DATE',\n",
    "    how='left'\n",
    "                      )\n",
    "\n",
    "df_combined\n",
    "#now have a dataset that has total cumulative case count by date, \n",
    "# along with our rolling average measure of daily departures"
   ]
  },
  {
   "cell_type": "markdown",
   "id": "08ed2b3f",
   "metadata": {},
   "source": [
    "## Visually assess any relationships between new case counts and departure volume\n"
   ]
  },
  {
   "cell_type": "code",
   "execution_count": 15,
   "id": "f9172014",
   "metadata": {},
   "outputs": [
    {
     "data": {
      "text/html": [
       "<div>\n",
       "<style scoped>\n",
       "    .dataframe tbody tr th:only-of-type {\n",
       "        vertical-align: middle;\n",
       "    }\n",
       "\n",
       "    .dataframe tbody tr th {\n",
       "        vertical-align: top;\n",
       "    }\n",
       "\n",
       "    .dataframe thead th {\n",
       "        text-align: right;\n",
       "    }\n",
       "</style>\n",
       "<table border=\"1\" class=\"dataframe\">\n",
       "  <thead>\n",
       "    <tr style=\"text-align: right;\">\n",
       "      <th></th>\n",
       "      <th>DATE</th>\n",
       "      <th>DEPS</th>\n",
       "      <th>CASE_COUNT</th>\n",
       "    </tr>\n",
       "  </thead>\n",
       "  <tbody>\n",
       "    <tr>\n",
       "      <th>0</th>\n",
       "      <td>2017-01-01</td>\n",
       "      <td>NaN</td>\n",
       "      <td>NaN</td>\n",
       "    </tr>\n",
       "    <tr>\n",
       "      <th>1</th>\n",
       "      <td>2017-01-02</td>\n",
       "      <td>NaN</td>\n",
       "      <td>NaN</td>\n",
       "    </tr>\n",
       "    <tr>\n",
       "      <th>2</th>\n",
       "      <td>2017-01-03</td>\n",
       "      <td>NaN</td>\n",
       "      <td>NaN</td>\n",
       "    </tr>\n",
       "    <tr>\n",
       "      <th>3</th>\n",
       "      <td>2017-01-04</td>\n",
       "      <td>NaN</td>\n",
       "      <td>NaN</td>\n",
       "    </tr>\n",
       "    <tr>\n",
       "      <th>4</th>\n",
       "      <td>2017-01-05</td>\n",
       "      <td>NaN</td>\n",
       "      <td>NaN</td>\n",
       "    </tr>\n",
       "    <tr>\n",
       "      <th>...</th>\n",
       "      <td>...</td>\n",
       "      <td>...</td>\n",
       "      <td>...</td>\n",
       "    </tr>\n",
       "    <tr>\n",
       "      <th>1821</th>\n",
       "      <td>2021-12-27</td>\n",
       "      <td>41.428571</td>\n",
       "      <td>51149.0</td>\n",
       "    </tr>\n",
       "    <tr>\n",
       "      <th>1822</th>\n",
       "      <td>2021-12-28</td>\n",
       "      <td>39.714286</td>\n",
       "      <td>49389.0</td>\n",
       "    </tr>\n",
       "    <tr>\n",
       "      <th>1823</th>\n",
       "      <td>2021-12-29</td>\n",
       "      <td>38.000000</td>\n",
       "      <td>50356.0</td>\n",
       "    </tr>\n",
       "    <tr>\n",
       "      <th>1824</th>\n",
       "      <td>2021-12-30</td>\n",
       "      <td>36.285714</td>\n",
       "      <td>47083.0</td>\n",
       "    </tr>\n",
       "    <tr>\n",
       "      <th>1825</th>\n",
       "      <td>2021-12-31</td>\n",
       "      <td>36.142857</td>\n",
       "      <td>29016.0</td>\n",
       "    </tr>\n",
       "  </tbody>\n",
       "</table>\n",
       "<p>1826 rows × 3 columns</p>\n",
       "</div>"
      ],
      "text/plain": [
       "           DATE       DEPS  CASE_COUNT\n",
       "0    2017-01-01        NaN         NaN\n",
       "1    2017-01-02        NaN         NaN\n",
       "2    2017-01-03        NaN         NaN\n",
       "3    2017-01-04        NaN         NaN\n",
       "4    2017-01-05        NaN         NaN\n",
       "...         ...        ...         ...\n",
       "1821 2021-12-27  41.428571     51149.0\n",
       "1822 2021-12-28  39.714286     49389.0\n",
       "1823 2021-12-29  38.000000     50356.0\n",
       "1824 2021-12-30  36.285714     47083.0\n",
       "1825 2021-12-31  36.142857     29016.0\n",
       "\n",
       "[1826 rows x 3 columns]"
      ]
     },
     "execution_count": 15,
     "metadata": {},
     "output_type": "execute_result"
    }
   ],
   "source": [
    "df_combined = df_combined.rename(columns={0:'DEPS'})\n",
    "df_combined"
   ]
  },
  {
   "cell_type": "code",
   "execution_count": 16,
   "id": "89236eb9",
   "metadata": {},
   "outputs": [
    {
     "data": {
      "image/png": "[encoded data removed]",
      "text/plain": [
       "<Figure size 432x288 with 2 Axes>"
      ]
     },
     "metadata": {
      "needs_background": "light"
     },
     "output_type": "display_data"
    }
   ],
   "source": [
    "fig, ax1 = plt.subplots()\n",
    "\n",
    "color = 'tab:red'\n",
    "ax1.set_xlabel('Date')\n",
    "ax1.set_ylabel('7-day mov. avg. daily departures', color=color)\n",
    "ax1.plot(df_combined.DATE, df_combined.DEPS, color=color)\n",
    "ax1.tick_params(axis='y', labelcolor=color)\n",
    "\n",
    "ax2 = ax1.twinx()  # instantiate a second axes that shares the same x-axis\n",
    "\n",
    "color = 'tab:blue'\n",
    "ax2.set_ylabel('Cumulative case count', color=color)  # we already handled the x-label with ax1\n",
    "ax2.plot(df_combined.DATE, df_combined.CASE_COUNT, color=color)\n",
    "ax2.tick_params(axis='y', labelcolor=color)\n",
    "\n",
    "# define a shaded region to highlight timing of COVID-19\n",
    "x1 = df_case_count.DATE[0]\n",
    "x2 = df_jfkdeps.DATE[67546]\n",
    "plt.axvspan(x1, x2, color='grey',alpha=0.2)\n",
    "\n",
    "plt.show()"
   ]
  },
  {
   "cell_type": "code",
   "execution_count": 17,
   "id": "14ae5c06",
   "metadata": {},
   "outputs": [
    {
     "data": {
      "image/png": "[encoded data removed]",
      "text/plain": [
       "<Figure size 432x288 with 2 Axes>"
      ]
     },
     "metadata": {
      "needs_background": "light"
     },
     "output_type": "display_data"
    }
   ],
   "source": [
    "#shorten the range of the data to better see the trends\n",
    "\n",
    "fig, ax1 = plt.subplots()\n",
    "\n",
    "color = 'tab:red'\n",
    "ax1.set_xlabel('Date')\n",
    "ax1.set_ylabel('7-day mov. avg. daily departures', color=color)\n",
    "ax1.plot(df_combined.DATE, df_combined.DEPS, color=color)\n",
    "\n",
    "ax1.tick_params(axis='y', labelcolor=color)\n",
    "\n",
    "ax2 = ax1.twinx() #plots a second set of axes on the same chart \n",
    "\n",
    "color = 'tab:blue'\n",
    "ax2.set_ylabel('Cumulative case count', color=color)  \n",
    "ax2.plot(df_combined.DATE, df_combined.CASE_COUNT, color=color)\n",
    "ax2.tick_params(axis='y', labelcolor=color)\n",
    "\n",
    "# define a shaded region to highlight timing of COVID-19\n",
    "x1 = df_case_count.DATE[0]\n",
    "x2 = df_jfkdeps.DATE[67546]\n",
    "plt.axvspan(x1, x2, color='grey',alpha=0.2)\n",
    "\n",
    "plt.xlim([dt.date(2019,1,1),dt.date(2022,1,1)])\n",
    "plt.show()"
   ]
  },
  {
   "cell_type": "markdown",
   "id": "7d114890",
   "metadata": {},
   "source": [
    "From the above we can see a precipitous drop in the 7-day moving average departure volume that coincided with the initial rise in cases that occured in March 2020. Surprisingly, this drop more or less coincided with the rise in case count (i.e., there was relatively minimal lag between case counts and departure volume decreasing. A further interesting point is the sustained drop in departure volume in the run up to the 2020/2021 holiday season (likely a result of the Delta variant). Lastly, it is interesting to note that at the end of the data series (i.e. 2021/2022 holiday season) case counts have dramatically spiked without an attendant drop in flights. This is partially because we are not seeing the 2022 data, but is likely also related to the relaxation of containment measures."
   ]
  },
  {
   "cell_type": "markdown",
   "id": "a99f4e84",
   "metadata": {},
   "source": [
    "## Quantitify relationship if possible (e.g., reduction in 7-day moving average departures as case counts increase)"
   ]
  },
  {
   "cell_type": "markdown",
   "id": "9726c156",
   "metadata": {},
   "source": [
    "Given the above data it is interesting to see whether during the depths of the pandemic there was a direct relationship between upticks in case counts and a corresponding reduction in flight volume. I would hypothesize the answer to this question to be yes until more recent history in which case counts have skyrocketed due to lax containment measures (people aren't getting sick anymore due to vaccines and the health system can tolerate a higher case count with fewer hospitalizations). "
   ]
  },
  {
   "cell_type": "markdown",
   "id": "1b173b08",
   "metadata": {},
   "source": [
    "First we need a parameter that measures the week-on-week variation in case counts and flight volume. "
   ]
  },
  {
   "cell_type": "code",
   "execution_count": 18,
   "id": "c4a2e4bf",
   "metadata": {},
   "outputs": [],
   "source": [
    "#create a merged dataframe that includes both case count and departure data\n",
    "\n",
    "df_combined2 = pd.merge(df_jfkdeps.\n",
    "    set_index('DATE').\n",
    "    resample('D').\n",
    "    size().\n",
    "    reset_index(),\n",
    "    df_case_count[['DATE','CASE_COUNT']],\n",
    "    left_on='DATE',\n",
    "    right_on='DATE',\n",
    "    how='inner'\n",
    "                      )\n",
    "\n",
    "df_combined2 = df_combined2.rename(columns={0:'DAILY_DEPS'})"
   ]
  },
  {
   "cell_type": "code",
   "execution_count": 19,
   "id": "9b8dfb87",
   "metadata": {},
   "outputs": [],
   "source": [
    "#create a dataframe that groups the case count and departure data by year and week of year\n",
    "df_agg = df_combined2.groupby(\n",
    "    [df_combined2.DATE.dt.isocalendar().year\n",
    "     ,df_combined2.DATE.dt.isocalendar().week]).agg(\n",
    "    SUM_DAILY_DEPS = ('DAILY_DEPS','sum'),\n",
    "    AVG_CASE_COUNT = ('CASE_COUNT','mean')\n",
    ")\n"
   ]
  },
  {
   "cell_type": "code",
   "execution_count": 20,
   "id": "d5441e0e",
   "metadata": {
    "scrolled": false
   },
   "outputs": [
    {
     "data": {
      "text/html": [
       "<div>\n",
       "<style scoped>\n",
       "    .dataframe tbody tr th:only-of-type {\n",
       "        vertical-align: middle;\n",
       "    }\n",
       "\n",
       "    .dataframe tbody tr th {\n",
       "        vertical-align: top;\n",
       "    }\n",
       "\n",
       "    .dataframe thead th {\n",
       "        text-align: right;\n",
       "    }\n",
       "</style>\n",
       "<table border=\"1\" class=\"dataframe\">\n",
       "  <thead>\n",
       "    <tr style=\"text-align: right;\">\n",
       "      <th></th>\n",
       "      <th></th>\n",
       "      <th>SUM_DAILY_DEPS</th>\n",
       "      <th>AVG_CASE_COUNT</th>\n",
       "    </tr>\n",
       "    <tr>\n",
       "      <th>year</th>\n",
       "      <th>week</th>\n",
       "      <th></th>\n",
       "      <th></th>\n",
       "    </tr>\n",
       "  </thead>\n",
       "  <tbody>\n",
       "    <tr>\n",
       "      <th rowspan=\"5\" valign=\"top\">2020</th>\n",
       "      <th>9</th>\n",
       "      <td>NaN</td>\n",
       "      <td>NaN</td>\n",
       "    </tr>\n",
       "    <tr>\n",
       "      <th>10</th>\n",
       "      <td>2.815789</td>\n",
       "      <td>11.857143</td>\n",
       "    </tr>\n",
       "    <tr>\n",
       "      <th>11</th>\n",
       "      <td>0.003448</td>\n",
       "      <td>64.133333</td>\n",
       "    </tr>\n",
       "    <tr>\n",
       "      <th>12</th>\n",
       "      <td>0.006873</td>\n",
       "      <td>5.986012</td>\n",
       "    </tr>\n",
       "    <tr>\n",
       "      <th>13</th>\n",
       "      <td>-0.017065</td>\n",
       "      <td>0.472065</td>\n",
       "    </tr>\n",
       "    <tr>\n",
       "      <th>...</th>\n",
       "      <th>...</th>\n",
       "      <td>...</td>\n",
       "      <td>...</td>\n",
       "    </tr>\n",
       "    <tr>\n",
       "      <th rowspan=\"5\" valign=\"top\">2021</th>\n",
       "      <th>48</th>\n",
       "      <td>0.128472</td>\n",
       "      <td>0.644649</td>\n",
       "    </tr>\n",
       "    <tr>\n",
       "      <th>49</th>\n",
       "      <td>0.000000</td>\n",
       "      <td>0.503548</td>\n",
       "    </tr>\n",
       "    <tr>\n",
       "      <th>50</th>\n",
       "      <td>-0.006154</td>\n",
       "      <td>2.987849</td>\n",
       "    </tr>\n",
       "    <tr>\n",
       "      <th>51</th>\n",
       "      <td>-0.065015</td>\n",
       "      <td>1.134698</td>\n",
       "    </tr>\n",
       "    <tr>\n",
       "      <th>52</th>\n",
       "      <td>-0.400662</td>\n",
       "      <td>0.874404</td>\n",
       "    </tr>\n",
       "  </tbody>\n",
       "</table>\n",
       "<p>97 rows × 2 columns</p>\n",
       "</div>"
      ],
      "text/plain": [
       "           SUM_DAILY_DEPS  AVG_CASE_COUNT\n",
       "year week                                \n",
       "2020 9                NaN             NaN\n",
       "     10          2.815789       11.857143\n",
       "     11          0.003448       64.133333\n",
       "     12          0.006873        5.986012\n",
       "     13         -0.017065        0.472065\n",
       "...                   ...             ...\n",
       "2021 48          0.128472        0.644649\n",
       "     49          0.000000        0.503548\n",
       "     50         -0.006154        2.987849\n",
       "     51         -0.065015        1.134698\n",
       "     52         -0.400662        0.874404\n",
       "\n",
       "[97 rows x 2 columns]"
      ]
     },
     "execution_count": 20,
     "metadata": {},
     "output_type": "execute_result"
    }
   ],
   "source": [
    "#below gives us week over week percentage variation in case count and departure volume\n",
    "df_agg.pct_change()"
   ]
  },
  {
   "cell_type": "code",
   "execution_count": 21,
   "id": "53e39e7a",
   "metadata": {},
   "outputs": [
    {
     "data": {
      "image/png": "[encoded data removed]",
      "text/plain": [
       "<Figure size 432x288 with 1 Axes>"
      ]
     },
     "metadata": {
      "needs_background": "light"
     },
     "output_type": "display_data"
    }
   ],
   "source": [
    "#plot a scatter to visually inspect the relationship between % change in case count and % change in departure volume\n",
    "\n",
    "fig, ax = plt.subplots()\n",
    "\n",
    "data = df_agg.pct_change()[['SUM_DAILY_DEPS','AVG_CASE_COUNT']]\n",
    "\n",
    "sns.scatterplot(x = df_agg.pct_change().SUM_DAILY_DEPS,y=df_agg.pct_change().AVG_CASE_COUNT, ax=ax)\n",
    "ax.set_xlim(-1.5,1)\n",
    "ax.set_ylim(-1,2)\n",
    "plt.show()"
   ]
  },
  {
   "cell_type": "markdown",
   "id": "68f3bdec",
   "metadata": {},
   "source": [
    "From the above chart it is hard to see any obvious relationship between the average week-over-week case counts and change in % of departures week over week. We can validate whether this is the case quantitatively using a regression:"
   ]
  },
  {
   "cell_type": "code",
   "execution_count": 22,
   "id": "8bfc47d8",
   "metadata": {},
   "outputs": [],
   "source": [
    "import statsmodels.api as sm"
   ]
  },
  {
   "cell_type": "code",
   "execution_count": 23,
   "id": "3fbdca05",
   "metadata": {
    "scrolled": true
   },
   "outputs": [
    {
     "data": {
      "text/html": [
       "<table class=\"simpletable\">\n",
       "<caption>OLS Regression Results</caption>\n",
       "<tr>\n",
       "  <th>Dep. Variable:</th>     <td>SUM_DAILY_DEPS</td>  <th>  R-squared:         </th> <td>   0.017</td>\n",
       "</tr>\n",
       "<tr>\n",
       "  <th>Model:</th>                   <td>OLS</td>       <th>  Adj. R-squared:    </th> <td>   0.007</td>\n",
       "</tr>\n",
       "<tr>\n",
       "  <th>Method:</th>             <td>Least Squares</td>  <th>  F-statistic:       </th> <td>   1.631</td>\n",
       "</tr>\n",
       "<tr>\n",
       "  <th>Date:</th>             <td>Wed, 21 Dec 2022</td> <th>  Prob (F-statistic):</th>  <td> 0.205</td> \n",
       "</tr>\n",
       "<tr>\n",
       "  <th>Time:</th>                 <td>21:48:25</td>     <th>  Log-Likelihood:    </th> <td> -34.055</td>\n",
       "</tr>\n",
       "<tr>\n",
       "  <th>No. Observations:</th>      <td>    96</td>      <th>  AIC:               </th> <td>   72.11</td>\n",
       "</tr>\n",
       "<tr>\n",
       "  <th>Df Residuals:</th>          <td>    94</td>      <th>  BIC:               </th> <td>   77.24</td>\n",
       "</tr>\n",
       "<tr>\n",
       "  <th>Df Model:</th>              <td>     1</td>      <th>                     </th>     <td> </td>   \n",
       "</tr>\n",
       "<tr>\n",
       "  <th>Covariance Type:</th>      <td>nonrobust</td>    <th>                     </th>     <td> </td>   \n",
       "</tr>\n",
       "</table>\n",
       "<table class=\"simpletable\">\n",
       "<tr>\n",
       "         <td></td>           <th>coef</th>     <th>std err</th>      <th>t</th>      <th>P>|t|</th>  <th>[0.025</th>    <th>0.975]</th>  \n",
       "</tr>\n",
       "<tr>\n",
       "  <th>const</th>          <td>    0.0403</td> <td>    0.036</td> <td>    1.120</td> <td> 0.265</td> <td>   -0.031</td> <td>    0.112</td>\n",
       "</tr>\n",
       "<tr>\n",
       "  <th>AVG_CASE_COUNT</th> <td>    0.0069</td> <td>    0.005</td> <td>    1.277</td> <td> 0.205</td> <td>   -0.004</td> <td>    0.018</td>\n",
       "</tr>\n",
       "</table>\n",
       "<table class=\"simpletable\">\n",
       "<tr>\n",
       "  <th>Omnibus:</th>       <td>140.556</td> <th>  Durbin-Watson:     </th> <td>   1.257</td>\n",
       "</tr>\n",
       "<tr>\n",
       "  <th>Prob(Omnibus):</th> <td> 0.000</td>  <th>  Jarque-Bera (JB):  </th> <td>5945.562</td>\n",
       "</tr>\n",
       "<tr>\n",
       "  <th>Skew:</th>          <td> 5.070</td>  <th>  Prob(JB):          </th> <td>    0.00</td>\n",
       "</tr>\n",
       "<tr>\n",
       "  <th>Kurtosis:</th>      <td>40.196</td>  <th>  Cond. No.          </th> <td>    6.77</td>\n",
       "</tr>\n",
       "</table><br/><br/>Notes:<br/>[1] Standard Errors assume that the covariance matrix of the errors is correctly specified."
      ],
      "text/plain": [
       "<class 'statsmodels.iolib.summary.Summary'>\n",
       "\"\"\"\n",
       "                            OLS Regression Results                            \n",
       "==============================================================================\n",
       "Dep. Variable:         SUM_DAILY_DEPS   R-squared:                       0.017\n",
       "Model:                            OLS   Adj. R-squared:                  0.007\n",
       "Method:                 Least Squares   F-statistic:                     1.631\n",
       "Date:                Wed, 21 Dec 2022   Prob (F-statistic):              0.205\n",
       "Time:                        21:48:25   Log-Likelihood:                -34.055\n",
       "No. Observations:                  96   AIC:                             72.11\n",
       "Df Residuals:                      94   BIC:                             77.24\n",
       "Df Model:                           1                                         \n",
       "Covariance Type:            nonrobust                                         \n",
       "==================================================================================\n",
       "                     coef    std err          t      P>|t|      [0.025      0.975]\n",
       "----------------------------------------------------------------------------------\n",
       "const              0.0403      0.036      1.120      0.265      -0.031       0.112\n",
       "AVG_CASE_COUNT     0.0069      0.005      1.277      0.205      -0.004       0.018\n",
       "==============================================================================\n",
       "Omnibus:                      140.556   Durbin-Watson:                   1.257\n",
       "Prob(Omnibus):                  0.000   Jarque-Bera (JB):             5945.562\n",
       "Skew:                           5.070   Prob(JB):                         0.00\n",
       "Kurtosis:                      40.196   Cond. No.                         6.77\n",
       "==============================================================================\n",
       "\n",
       "Notes:\n",
       "[1] Standard Errors assume that the covariance matrix of the errors is correctly specified.\n",
       "\"\"\""
      ]
     },
     "execution_count": 23,
     "metadata": {},
     "output_type": "execute_result"
    }
   ],
   "source": [
    "x = df_agg.pct_change().AVG_CASE_COUNT[1:] #using the 1: slide to omit the NaN value at the beginning of the dataset\n",
    "x = sm.add_constant(x)\n",
    "y = df_agg.pct_change().SUM_DAILY_DEPS[1:]\n",
    "model = sm.OLS(y, x)\n",
    "results = model.fit()\n",
    "results.summary()"
   ]
  },
  {
   "cell_type": "markdown",
   "id": "f5db0043",
   "metadata": {},
   "source": [
    "The above regression indicates an R-squared value of 0.017 and the coefficient for is not significant at the 95% level. This tells us the model has low explanatory power and suggests that some other factor likely explained the variation in departure volume than case counts. We know intuitively that government policy and consumer demand were key drivers of flight volume during the pandemic, these results don't prove that out, but DO show that there is a limited direct relationship between case counts and departure volume. Perhaps the initial reaction to the pandemic was to cause flight volume to plummet, but subsequent waves of infections didn't result in the same precipitous declines as those observed in March 2020. "
   ]
  }
 ],
 "metadata": {
  "kernelspec": {
   "display_name": "Python 3 (ipykernel)",
   "language": "python",
   "name": "python3"
  },
  "language_info": {
   "codemirror_mode": {
    "name": "ipython",
    "version": 3
   },
   "file_extension": ".py",
   "mimetype": "text/x-python",
   "name": "python",
   "nbconvert_exporter": "python",
   "pygments_lexer": "ipython3",
   "version": "3.9.12"
  }
 },
 "nbformat": 4,
 "nbformat_minor": 5
}
